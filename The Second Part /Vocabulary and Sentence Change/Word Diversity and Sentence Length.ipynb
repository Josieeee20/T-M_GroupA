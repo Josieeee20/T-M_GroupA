{
 "cells": [
  {
   "cell_type": "code",
   "execution_count": 1,
   "id": "a75482a2",
   "metadata": {},
   "outputs": [],
   "source": [
    "import pandas as pd\n",
    "\n",
    "input_file = 'before.txt'\n",
    "output_csv_file = 'before_Franklin.csv'\n",
    "\n",
    "df = pd.read_csv(input_file, sep='\\t')\n",
    "\n",
    "df.to_csv(output_csv_file, index=False)\n"
   ]
  },
  {
   "cell_type": "code",
   "execution_count": 2,
   "id": "65b83ba3",
   "metadata": {},
   "outputs": [],
   "source": [
    "import pandas as pd\n",
    "\n",
    "input_file = 'after.txt'\n",
    "output_csv_file = 'after_Franklin.csv'\n",
    "\n",
    "df = pd.read_csv(input_file, sep='\\t')\n",
    "\n",
    "df.to_csv(output_csv_file, index=False)"
   ]
  },
  {
   "cell_type": "code",
   "execution_count": 24,
   "id": "8026b41f",
   "metadata": {},
   "outputs": [],
   "source": [
    "before=pd.read_csv('before_Franklin.csv')\n",
    "after=pd.read_csv('after_Franklin.csv')"
   ]
  },
  {
   "cell_type": "code",
   "execution_count": 25,
   "id": "2b3dd248",
   "metadata": {},
   "outputs": [],
   "source": [
    "def modified_columns(df):\n",
    "    columns_to_drop = ['Index', 'TypesCountMean', 'TypesCountStdDev','Language','Modified','Author']\n",
    "    df = df.drop(columns=columns_to_drop)\n",
    "    columns_rename = {'TokensCount': 'Words', 'TypesCount': 'Types'}\n",
    "    df = df.rename(columns=columns_rename)\n",
    "    return  df\n",
    "\n",
    "before=modified_columns(before)\n",
    "before.to_csv('before.csv', index=False)"
   ]
  },
  {
   "cell_type": "code",
   "execution_count": 26,
   "id": "f13b41ed",
   "metadata": {},
   "outputs": [],
   "source": [
    "after=modified_columns(after)\n",
    "after.to_csv('after.csv', index=False)"
   ]
  },
  {
   "cell_type": "code",
   "execution_count": 27,
   "id": "7024ba21",
   "metadata": {},
   "outputs": [],
   "source": [
    "def ratio(data):\n",
    "    data['Ratio']=data['Types']/data['Words']*100\n",
    "    \n",
    "def words_sentence(data):\n",
    "    data['Words/Sentence']=data['Words']/data['Sentences']\n",
    "    \n",
    "ratio(before)\n",
    "words_sentence(before)\n",
    "\n",
    "ratio(after)\n",
    "words_sentence(after)"
   ]
  },
  {
   "cell_type": "code",
   "execution_count": 28,
   "id": "feae71e4",
   "metadata": {},
   "outputs": [
    {
     "data": {
      "text/html": [
       "<div>\n",
       "<style scoped>\n",
       "    .dataframe tbody tr th:only-of-type {\n",
       "        vertical-align: middle;\n",
       "    }\n",
       "\n",
       "    .dataframe tbody tr th {\n",
       "        vertical-align: top;\n",
       "    }\n",
       "\n",
       "    .dataframe thead th {\n",
       "        text-align: right;\n",
       "    }\n",
       "</style>\n",
       "<table border=\"1\" class=\"dataframe\">\n",
       "  <thead>\n",
       "    <tr style=\"text-align: right;\">\n",
       "      <th></th>\n",
       "      <th>Words</th>\n",
       "      <th>Types</th>\n",
       "      <th>Sentences</th>\n",
       "      <th>Title</th>\n",
       "      <th>Ratio</th>\n",
       "      <th>Words/Sentence</th>\n",
       "    </tr>\n",
       "  </thead>\n",
       "  <tbody>\n",
       "    <tr>\n",
       "      <th>0</th>\n",
       "      <td>10840</td>\n",
       "      <td>1550</td>\n",
       "      <td>419</td>\n",
       "      <td>Abraham_Lincoln_1852-07-06</td>\n",
       "      <td>14.298893</td>\n",
       "      <td>25.871122</td>\n",
       "    </tr>\n",
       "    <tr>\n",
       "      <th>1</th>\n",
       "      <td>33361</td>\n",
       "      <td>2445</td>\n",
       "      <td>1466</td>\n",
       "      <td>Abraham_Lincoln_1854-10-16</td>\n",
       "      <td>7.328917</td>\n",
       "      <td>22.756480</td>\n",
       "    </tr>\n",
       "    <tr>\n",
       "      <th>2</th>\n",
       "      <td>3221</td>\n",
       "      <td>881</td>\n",
       "      <td>128</td>\n",
       "      <td>Abraham_Lincoln_1858-06-16</td>\n",
       "      <td>27.351754</td>\n",
       "      <td>25.164062</td>\n",
       "    </tr>\n",
       "    <tr>\n",
       "      <th>3</th>\n",
       "      <td>13781</td>\n",
       "      <td>1439</td>\n",
       "      <td>526</td>\n",
       "      <td>Abraham_Lincoln_1860-02-27</td>\n",
       "      <td>10.441913</td>\n",
       "      <td>26.199620</td>\n",
       "    </tr>\n",
       "    <tr>\n",
       "      <th>4</th>\n",
       "      <td>154</td>\n",
       "      <td>98</td>\n",
       "      <td>9</td>\n",
       "      <td>Abraham_Lincoln_1861-02-11</td>\n",
       "      <td>63.636364</td>\n",
       "      <td>17.111111</td>\n",
       "    </tr>\n",
       "    <tr>\n",
       "      <th>...</th>\n",
       "      <td>...</td>\n",
       "      <td>...</td>\n",
       "      <td>...</td>\n",
       "      <td>...</td>\n",
       "      <td>...</td>\n",
       "      <td>...</td>\n",
       "    </tr>\n",
       "    <tr>\n",
       "      <th>509</th>\n",
       "      <td>2711</td>\n",
       "      <td>867</td>\n",
       "      <td>72</td>\n",
       "      <td>Woodrow_Wilson_1920-12-07</td>\n",
       "      <td>31.980819</td>\n",
       "      <td>37.652778</td>\n",
       "    </tr>\n",
       "    <tr>\n",
       "      <th>510</th>\n",
       "      <td>1091</td>\n",
       "      <td>481</td>\n",
       "      <td>22</td>\n",
       "      <td>Zachary_Taylor_1849-03-05</td>\n",
       "      <td>44.087993</td>\n",
       "      <td>49.590909</td>\n",
       "    </tr>\n",
       "    <tr>\n",
       "      <th>511</th>\n",
       "      <td>7639</td>\n",
       "      <td>1779</td>\n",
       "      <td>205</td>\n",
       "      <td>Zachary_Taylor_1849-12-04</td>\n",
       "      <td>23.288389</td>\n",
       "      <td>37.263415</td>\n",
       "    </tr>\n",
       "    <tr>\n",
       "      <th>512</th>\n",
       "      <td>1679</td>\n",
       "      <td>558</td>\n",
       "      <td>33</td>\n",
       "      <td>Zachary_Taylor_1850-01-23</td>\n",
       "      <td>33.234068</td>\n",
       "      <td>50.878788</td>\n",
       "    </tr>\n",
       "    <tr>\n",
       "      <th>513</th>\n",
       "      <td>986</td>\n",
       "      <td>365</td>\n",
       "      <td>23</td>\n",
       "      <td>Zachary_Taylor_1850-04-22</td>\n",
       "      <td>37.018256</td>\n",
       "      <td>42.869565</td>\n",
       "    </tr>\n",
       "  </tbody>\n",
       "</table>\n",
       "<p>514 rows × 6 columns</p>\n",
       "</div>"
      ],
      "text/plain": [
       "     Words  Types  Sentences                       Title      Ratio  \\\n",
       "0    10840   1550        419  Abraham_Lincoln_1852-07-06  14.298893   \n",
       "1    33361   2445       1466  Abraham_Lincoln_1854-10-16   7.328917   \n",
       "2     3221    881        128  Abraham_Lincoln_1858-06-16  27.351754   \n",
       "3    13781   1439        526  Abraham_Lincoln_1860-02-27  10.441913   \n",
       "4      154     98          9  Abraham_Lincoln_1861-02-11  63.636364   \n",
       "..     ...    ...        ...                         ...        ...   \n",
       "509   2711    867         72   Woodrow_Wilson_1920-12-07  31.980819   \n",
       "510   1091    481         22   Zachary_Taylor_1849-03-05  44.087993   \n",
       "511   7639   1779        205   Zachary_Taylor_1849-12-04  23.288389   \n",
       "512   1679    558         33   Zachary_Taylor_1850-01-23  33.234068   \n",
       "513    986    365         23   Zachary_Taylor_1850-04-22  37.018256   \n",
       "\n",
       "     Words/Sentence  \n",
       "0         25.871122  \n",
       "1         22.756480  \n",
       "2         25.164062  \n",
       "3         26.199620  \n",
       "4         17.111111  \n",
       "..              ...  \n",
       "509       37.652778  \n",
       "510       49.590909  \n",
       "511       37.263415  \n",
       "512       50.878788  \n",
       "513       42.869565  \n",
       "\n",
       "[514 rows x 6 columns]"
      ]
     },
     "execution_count": 28,
     "metadata": {},
     "output_type": "execute_result"
    }
   ],
   "source": [
    "before"
   ]
  },
  {
   "cell_type": "code",
   "execution_count": 29,
   "id": "497e662f",
   "metadata": {
    "scrolled": true
   },
   "outputs": [
    {
     "data": {
      "text/html": [
       "<div>\n",
       "<style scoped>\n",
       "    .dataframe tbody tr th:only-of-type {\n",
       "        vertical-align: middle;\n",
       "    }\n",
       "\n",
       "    .dataframe tbody tr th {\n",
       "        vertical-align: top;\n",
       "    }\n",
       "\n",
       "    .dataframe thead th {\n",
       "        text-align: right;\n",
       "    }\n",
       "</style>\n",
       "<table border=\"1\" class=\"dataframe\">\n",
       "  <thead>\n",
       "    <tr style=\"text-align: right;\">\n",
       "      <th></th>\n",
       "      <th>Words</th>\n",
       "      <th>Types</th>\n",
       "      <th>Sentences</th>\n",
       "      <th>Title</th>\n",
       "      <th>Ratio</th>\n",
       "      <th>Words/Sentence</th>\n",
       "    </tr>\n",
       "  </thead>\n",
       "  <tbody>\n",
       "    <tr>\n",
       "      <th>0</th>\n",
       "      <td>4690</td>\n",
       "      <td>1212</td>\n",
       "      <td>227</td>\n",
       "      <td>Barack_Obama_2008-08-28</td>\n",
       "      <td>25.842217</td>\n",
       "      <td>20.660793</td>\n",
       "    </tr>\n",
       "    <tr>\n",
       "      <th>1</th>\n",
       "      <td>1961</td>\n",
       "      <td>659</td>\n",
       "      <td>80</td>\n",
       "      <td>Barack_Obama_2008-11-04</td>\n",
       "      <td>33.605303</td>\n",
       "      <td>24.512500</td>\n",
       "    </tr>\n",
       "    <tr>\n",
       "      <th>2</th>\n",
       "      <td>2406</td>\n",
       "      <td>890</td>\n",
       "      <td>109</td>\n",
       "      <td>Barack_Obama_2009-01-20</td>\n",
       "      <td>36.990856</td>\n",
       "      <td>22.073394</td>\n",
       "    </tr>\n",
       "    <tr>\n",
       "      <th>3</th>\n",
       "      <td>877</td>\n",
       "      <td>388</td>\n",
       "      <td>32</td>\n",
       "      <td>Barack_Obama_2009-01-29</td>\n",
       "      <td>44.241733</td>\n",
       "      <td>27.406250</td>\n",
       "    </tr>\n",
       "    <tr>\n",
       "      <th>4</th>\n",
       "      <td>2472</td>\n",
       "      <td>848</td>\n",
       "      <td>109</td>\n",
       "      <td>Barack_Obama_2009-02-07</td>\n",
       "      <td>34.304207</td>\n",
       "      <td>22.678899</td>\n",
       "    </tr>\n",
       "    <tr>\n",
       "      <th>...</th>\n",
       "      <td>...</td>\n",
       "      <td>...</td>\n",
       "      <td>...</td>\n",
       "      <td>...</td>\n",
       "      <td>...</td>\n",
       "      <td>...</td>\n",
       "    </tr>\n",
       "    <tr>\n",
       "      <th>456</th>\n",
       "      <td>4531</td>\n",
       "      <td>1298</td>\n",
       "      <td>249</td>\n",
       "      <td>Ronald_Reagan_1988-08-15</td>\n",
       "      <td>28.647098</td>\n",
       "      <td>18.196787</td>\n",
       "    </tr>\n",
       "    <tr>\n",
       "      <th>457</th>\n",
       "      <td>4968</td>\n",
       "      <td>1346</td>\n",
       "      <td>192</td>\n",
       "      <td>Ronald_Reagan_1988-09-26</td>\n",
       "      <td>27.093398</td>\n",
       "      <td>25.875000</td>\n",
       "    </tr>\n",
       "    <tr>\n",
       "      <th>458</th>\n",
       "      <td>282</td>\n",
       "      <td>136</td>\n",
       "      <td>19</td>\n",
       "      <td>Ronald_Reagan_1988-11-11</td>\n",
       "      <td>48.226950</td>\n",
       "      <td>14.842105</td>\n",
       "    </tr>\n",
       "    <tr>\n",
       "      <th>459</th>\n",
       "      <td>7121</td>\n",
       "      <td>1772</td>\n",
       "      <td>296</td>\n",
       "      <td>Ronald_Reagan_1988-12-16</td>\n",
       "      <td>24.884145</td>\n",
       "      <td>24.057432</td>\n",
       "    </tr>\n",
       "    <tr>\n",
       "      <th>460</th>\n",
       "      <td>3325</td>\n",
       "      <td>999</td>\n",
       "      <td>200</td>\n",
       "      <td>Ronald_Reagan_1989-01-11</td>\n",
       "      <td>30.045113</td>\n",
       "      <td>16.625000</td>\n",
       "    </tr>\n",
       "  </tbody>\n",
       "</table>\n",
       "<p>461 rows × 6 columns</p>\n",
       "</div>"
      ],
      "text/plain": [
       "     Words  Types  Sentences                     Title      Ratio  \\\n",
       "0     4690   1212        227   Barack_Obama_2008-08-28  25.842217   \n",
       "1     1961    659         80   Barack_Obama_2008-11-04  33.605303   \n",
       "2     2406    890        109   Barack_Obama_2009-01-20  36.990856   \n",
       "3      877    388         32   Barack_Obama_2009-01-29  44.241733   \n",
       "4     2472    848        109   Barack_Obama_2009-02-07  34.304207   \n",
       "..     ...    ...        ...                       ...        ...   \n",
       "456   4531   1298        249  Ronald_Reagan_1988-08-15  28.647098   \n",
       "457   4968   1346        192  Ronald_Reagan_1988-09-26  27.093398   \n",
       "458    282    136         19  Ronald_Reagan_1988-11-11  48.226950   \n",
       "459   7121   1772        296  Ronald_Reagan_1988-12-16  24.884145   \n",
       "460   3325    999        200  Ronald_Reagan_1989-01-11  30.045113   \n",
       "\n",
       "     Words/Sentence  \n",
       "0         20.660793  \n",
       "1         24.512500  \n",
       "2         22.073394  \n",
       "3         27.406250  \n",
       "4         22.678899  \n",
       "..              ...  \n",
       "456       18.196787  \n",
       "457       25.875000  \n",
       "458       14.842105  \n",
       "459       24.057432  \n",
       "460       16.625000  \n",
       "\n",
       "[461 rows x 6 columns]"
      ]
     },
     "execution_count": 29,
     "metadata": {},
     "output_type": "execute_result"
    }
   ],
   "source": [
    "after"
   ]
  },
  {
   "cell_type": "code",
   "execution_count": 30,
   "id": "6283f8ca",
   "metadata": {},
   "outputs": [
    {
     "data": {
      "text/plain": [
       "33.291472979985905"
      ]
     },
     "execution_count": 30,
     "metadata": {},
     "output_type": "execute_result"
    }
   ],
   "source": [
    "def average_word_diversity(data):\n",
    "    return data['Ratio'].mean()\n",
    "\n",
    "average_word_diversity(before)"
   ]
  },
  {
   "cell_type": "code",
   "execution_count": 31,
   "id": "24d86a40",
   "metadata": {},
   "outputs": [
    {
     "data": {
      "text/plain": [
       "31.27865941514018"
      ]
     },
     "execution_count": 31,
     "metadata": {},
     "output_type": "execute_result"
    }
   ],
   "source": [
    "average_word_diversity(after)"
   ]
  },
  {
   "cell_type": "code",
   "execution_count": 32,
   "id": "b9a38bce",
   "metadata": {},
   "outputs": [
    {
     "data": {
      "image/png": "[encoded data removed]",
      "text/plain": [
       "<Figure size 640x480 with 1 Axes>"
      ]
     },
     "metadata": {},
     "output_type": "display_data"
    }
   ],
   "source": [
    "import matplotlib.pyplot as plt\n",
    "wd=pd.Series([average_word_diversity(before),average_word_diversity(after)], index=['Before','After'])\n",
    "ax = wd.plot(kind='bar')\n",
    "ax.set_xticklabels(ax.get_xticklabels(), rotation=0)\n",
    "plt.show()\n"
   ]
  },
  {
   "cell_type": "code",
   "execution_count": 33,
   "id": "a03e1b98",
   "metadata": {},
   "outputs": [
    {
     "data": {
      "text/plain": [
       "41.74388601815696"
      ]
     },
     "execution_count": 33,
     "metadata": {},
     "output_type": "execute_result"
    }
   ],
   "source": [
    "def average_sentence_length(data):\n",
    "    return data['Words/Sentence'].mean()\n",
    "\n",
    "average_sentence_length(before)"
   ]
  },
  {
   "cell_type": "code",
   "execution_count": 34,
   "id": "57d985c8",
   "metadata": {},
   "outputs": [
    {
     "data": {
      "text/plain": [
       "20.585760816546227"
      ]
     },
     "execution_count": 34,
     "metadata": {},
     "output_type": "execute_result"
    }
   ],
   "source": [
    "average_sentence_length(after)"
   ]
  },
  {
   "cell_type": "code",
   "execution_count": 35,
   "id": "401c55b3",
   "metadata": {},
   "outputs": [
    {
     "data": {
      "image/png": "[encoded data removed]",
      "text/plain": [
       "<Figure size 640x480 with 1 Axes>"
      ]
     },
     "metadata": {},
     "output_type": "display_data"
    }
   ],
   "source": [
    "wd=pd.Series([average_sentence_length(before),average_sentence_length(after)], index=['Before','After'])\n",
    "ax = wd.plot(kind='bar')\n",
    "ax.set_xticklabels(ax.get_xticklabels(), rotation=0)\n",
    "plt.show()"
   ]
  },
  {
   "cell_type": "code",
   "execution_count": null,
   "id": "3a694ee3",
   "metadata": {},
   "outputs": [],
   "source": []
  }
 ],
 "metadata": {
  "kernelspec": {
   "display_name": "Python 3 (ipykernel)",
   "language": "python",
   "name": "python3"
  },
  "language_info": {
   "codemirror_mode": {
    "name": "ipython",
    "version": 3
   },
   "file_extension": ".py",
   "mimetype": "text/x-python",
   "name": "python",
   "nbconvert_exporter": "python",
   "pygments_lexer": "ipython3",
   "version": "3.11.4"
  }
 },
 "nbformat": 4,
 "nbformat_minor": 5
}
