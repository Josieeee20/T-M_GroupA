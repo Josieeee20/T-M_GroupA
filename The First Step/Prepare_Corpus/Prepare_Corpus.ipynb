{
 "cells": [
  {
   "cell_type": "markdown",
   "id": "ac546276-e2f6-43d0-b8f0-9ca65edd1556",
   "metadata": {},
   "source": [
    "## Collecting new dataset (speeches by Donald Trump and Joe Biden)\n",
    "### Method: Miller Center API"
   ]
  },
  {
   "cell_type": "code",
   "execution_count": 1,
   "id": "2ad7e92d-e256-4e74-89cf-305beae3a57d",
   "metadata": {},
   "outputs": [],
   "source": [
    "# Import necessary libraries\n",
    "import pandas as pd\n",
    "import requests"
   ]
  },
  {
   "cell_type": "markdown",
   "id": "0075902c-d2e9-432c-a43c-6644481ac8ba",
   "metadata": {},
   "source": [
    "### Collecting Joe Biden's speech transcripts"
   ]
  },
  {
   "cell_type": "code",
   "execution_count": 2,
   "id": "73a9bcf4-7186-4e51-b7eb-86787e7cadc7",
   "metadata": {},
   "outputs": [],
   "source": [
    "# We start by making a POST request to the API endpoint. This returns the speech data in JSON format.\n",
    "endpoint = \"https://api.millercenter.org/speeches?filter_president=Joe+Biden\"\n",
    "r = requests.post(url=endpoint)\n",
    "data = r.json()\n",
    "items = data['Items']\n",
    "\n",
    "# Next, we check if there is a 'LastEvaluatedKey' in the response data, indicating that there are more items to retrieve. If so, we continue making POST requests to the API with the 'continue_president' and 'continue_doc_name' parameters to fetch the remaining items.\n",
    "while 'LastEvaluatedKey' in data:\n",
    "    continue_president = data['LastEvaluatedKey']['president']\n",
    "    continue_doc_name = data['LastEvaluatedKey']['doc_name']\n",
    "    \n",
    "    r = requests.post(url=endpoint, params={\"continue_president\": continue_president, \"continue_doc_name\": continue_doc_name})\n",
    "    data = r.json()\n",
    "    items += data['Items']\n",
    "\n",
    "# For each speech item in the 'Items' list, we extract the title, president, date, and transcript. \n",
    "# We store this information in a list of dictionaries called `speeches`. \n",
    "speeches = []\n",
    "for item in items:\n",
    "    title = item['title']\n",
    "    president = item['president']\n",
    "    date = item['date']\n",
    "    doc_name = item['doc_name']\n",
    "    transcript = item['transcript']\n",
    "    \n",
    "    speech = {\n",
    "        'Title': title,\n",
    "        'President': president,\n",
    "        'Date': date,\n",
    "        'Transcript': transcript\n",
    "    }\n",
    "    speeches.append(speech)\n",
    "\n",
    "# We create a pandas DataFrame using the `speeches` list. \n",
    "df = pd.DataFrame(speeches)"
   ]
  },
  {
   "cell_type": "code",
   "execution_count": 4,
   "id": "24ec66ce-ce1b-4bfb-95ff-a6200c5a2bdf",
   "metadata": {},
   "outputs": [],
   "source": [
    "# To standardize the date in the data collected from API, \n",
    "# we use the `parse()` function from the dateutil library.\n",
    "# It can be used to parse the date string and convert it into a datetime object. \n",
    "\n",
    "from dateutil.parser import parse\n",
    "\n",
    "# Then, you can use the `strftime()` function to format the datetime object into the desired date format. \n",
    "#`%Y-%m-%d` represents the year, month, and day in a four-digit year format, two-digit month, and two-digit day.\n",
    "\n",
    "df['Date'] = df['Date'].apply(lambda x: parse(x).strftime('%Y-%m-%d'))"
   ]
  },
  {
   "cell_type": "code",
   "execution_count": 6,
   "id": "1ad1c59d-a757-4724-8402-936dc8c940b3",
   "metadata": {},
   "outputs": [],
   "source": [
    "# Finally, we save it to a CSV file.\n",
    "df.to_csv('Biden_speeches.csv', index=False)"
   ]
  },
  {
   "cell_type": "markdown",
   "id": "f81fe22a-2407-41b3-9e9c-6bbeb92f83db",
   "metadata": {},
   "source": [
    "### Collecting Donald Trump's speech transcripts"
   ]
  },
  {
   "cell_type": "code",
   "execution_count": 7,
   "id": "fa4896c6-d860-4314-a25e-5efbda43d6bc",
   "metadata": {},
   "outputs": [],
   "source": [
    "endpoint = \"https://api.millercenter.org/speeches?filter_president=Donald+Trump\"\n",
    "r = requests.post(url=endpoint)\n",
    "data = r.json()\n",
    "items = data['Items']\n",
    "\n",
    "while 'LastEvaluatedKey' in data:\n",
    "    continue_president = data['LastEvaluatedKey']['president']\n",
    "    continue_doc_name = data['LastEvaluatedKey']['doc_name']\n",
    "    \n",
    "    r = requests.post(url=endpoint, params={\"continue_president\": continue_president, \"continue_doc_name\": continue_doc_name})\n",
    "    data = r.json()\n",
    "    items += data['Items']\n",
    "\n",
    "speeches = []\n",
    "for item in items:\n",
    "    title = item['title']\n",
    "    president = item['president']\n",
    "    date = item['date']\n",
    "    doc_name = item['doc_name']\n",
    "    transcript = item['transcript']\n",
    "    \n",
    "    speech = {\n",
    "        'Title': title,\n",
    "        'President': president,\n",
    "        'Date': date,\n",
    "        'Transcript': transcript\n",
    "    }\n",
    "    speeches.append(speech)\n",
    "\n",
    "df = pd.DataFrame(speeches)"
   ]
  },
  {
   "cell_type": "code",
   "execution_count": 9,
   "id": "a1f87d53-194d-4ac7-98dc-61f08488b7f7",
   "metadata": {},
   "outputs": [],
   "source": [
    "df['Date'] = df['Date'].apply(lambda x: parse(x).strftime('%Y-%m-%d'))"
   ]
  },
  {
   "cell_type": "code",
   "execution_count": 10,
   "id": "83a2f3a6-546e-459f-b80d-05c1098dbdf2",
   "metadata": {},
   "outputs": [],
   "source": [
    "df.to_csv('Trump_speeches.csv', index=False)"
   ]
  },
  {
   "cell_type": "markdown",
   "id": "aba1453c-0660-4802-915b-49eb9e3a622b",
   "metadata": {},
   "source": [
    "## Combining pre-existing dataset and new datasets"
   ]
  },
  {
   "cell_type": "code",
   "execution_count": 26,
   "id": "27adca39-0d42-42e4-a9a1-ed9ce4aa3ded",
   "metadata": {},
   "outputs": [],
   "source": [
    "# load datasets \n",
    "data0 = pd.read_csv('presidential_speeches.csv')\n",
    "data1 = pd.read_csv('Biden_speeches.csv')\n",
    "data2 = pd.read_csv('Trump_speeches.csv')"
   ]
  },
  {
   "cell_type": "code",
   "execution_count": 27,
   "id": "de410539-f4dd-4b0c-9624-6d257d75e299",
   "metadata": {},
   "outputs": [],
   "source": [
    "# formating datasets\n",
    "data1 = data1.rename(columns={'Title': 'Speech Title', 'Speech': 'Transcript'})\n",
    "data2 = data2.rename(columns={'Title': 'Speech Title', 'Speech': 'Transcript'})"
   ]
  },
  {
   "cell_type": "code",
   "execution_count": 28,
   "id": "a9fbb355-7808-4014-9afa-a67626ef55df",
   "metadata": {},
   "outputs": [],
   "source": [
    "data1[\"Party\"] = \"Democratic\""
   ]
  },
  {
   "cell_type": "code",
   "execution_count": 29,
   "id": "5e4d8a23-ee37-4efe-a12a-0852547da883",
   "metadata": {},
   "outputs": [],
   "source": [
    "data2[\"Party\"] = \"Republican\""
   ]
  },
  {
   "cell_type": "code",
   "execution_count": 30,
   "id": "664ba50a-ce42-41d7-bad6-c02bf72c9447",
   "metadata": {},
   "outputs": [],
   "source": [
    "data0 = data0.drop(columns='Summary')\n",
    "data0 = data0.drop(columns='URL')"
   ]
  },
  {
   "cell_type": "code",
   "execution_count": 31,
   "id": "8017545a-dbf4-4183-939a-118e224c9702",
   "metadata": {},
   "outputs": [],
   "source": [
    "data0 = data0[data0['President'] != 'Donald Trump']"
   ]
  },
  {
   "cell_type": "code",
   "execution_count": 32,
   "id": "ed15342a-19c0-4683-b2cd-b517ede4dce7",
   "metadata": {},
   "outputs": [],
   "source": [
    "combined_data = pd.concat([data0, data1, data2], ignore_index=True)"
   ]
  },
  {
   "cell_type": "code",
   "execution_count": 34,
   "id": "bcaf3ad8-439d-4232-a24a-dfe501dcddcf",
   "metadata": {},
   "outputs": [],
   "source": [
    "combined_data = combined_data.drop_duplicates()"
   ]
  },
  {
   "cell_type": "code",
   "execution_count": 43,
   "id": "782c0e89-cf3e-48ed-af21-7bcdbf9fa7e3",
   "metadata": {},
   "outputs": [],
   "source": [
    "sorted_data = combined_data.sort_values('Date', ascending=False)"
   ]
  },
  {
   "cell_type": "code",
   "execution_count": 55,
   "id": "e0edff18-285e-4328-8db3-a2ac4074beea",
   "metadata": {},
   "outputs": [],
   "source": [
    "# cleaning the transcripts\n",
    "import re\n",
    "def clean_text(text):\n",
    "    if pd.isnull(text):  # Check if value is NaN\n",
    "        return ''  # Convert NaN to empty string\n",
    "    else:\n",
    "        # Remove newlines and carriage returns\n",
    "        cleaned_text = text.replace('\\n', '').replace('\\r', '')\n",
    "        \n",
    "        # Remove multiple consecutive spaces\n",
    "        cleaned_text = re.sub(r'\\s+', ' ', cleaned_text)\n",
    "        \n",
    "        return cleaned_text\n",
    "\n",
    "sorted_data['Transcript'] = sorted_data['Transcript'].apply(clean_text)"
   ]
  },
  {
   "cell_type": "code",
   "execution_count": 57,
   "id": "58502753-76fd-4615-83ea-cec8994f72d6",
   "metadata": {},
   "outputs": [],
   "source": [
    "# save CSV file (the original \n",
    "sorted_data.to_csv('combine_president_speeches.csv', index=False)"
   ]
  },
  {
   "cell_type": "code",
   "execution_count": 58,
   "id": "54e2a756-6a3b-4ae7-a781-c29150c6db3f",
   "metadata": {},
   "outputs": [
    {
     "data": {
      "text/html": [
       "<div>\n",
       "<style scoped>\n",
       "    .dataframe tbody tr th:only-of-type {\n",
       "        vertical-align: middle;\n",
       "    }\n",
       "\n",
       "    .dataframe tbody tr th {\n",
       "        vertical-align: top;\n",
       "    }\n",
       "\n",
       "    .dataframe thead th {\n",
       "        text-align: right;\n",
       "    }\n",
       "</style>\n",
       "<table border=\"1\" class=\"dataframe\">\n",
       "  <thead>\n",
       "    <tr style=\"text-align: right;\">\n",
       "      <th></th>\n",
       "      <th>Date</th>\n",
       "      <th>President</th>\n",
       "      <th>Party</th>\n",
       "      <th>Speech Title</th>\n",
       "      <th>Transcript</th>\n",
       "    </tr>\n",
       "  </thead>\n",
       "  <tbody>\n",
       "    <tr>\n",
       "      <th>981</th>\n",
       "      <td>2024-01-05</td>\n",
       "      <td>Joe Biden</td>\n",
       "      <td>Democratic</td>\n",
       "      <td>January 5, 2024: Speech on the Third Anniversa...</td>\n",
       "      <td>THE PRESIDENT: Thank you, thank you, thank you...</td>\n",
       "    </tr>\n",
       "    <tr>\n",
       "      <th>992</th>\n",
       "      <td>2023-10-20</td>\n",
       "      <td>Joe Biden</td>\n",
       "      <td>Democratic</td>\n",
       "      <td>October 20, 2023: Remarks on the US Response i...</td>\n",
       "      <td>Good evening, my fellow Americans. We’re facin...</td>\n",
       "    </tr>\n",
       "    <tr>\n",
       "      <th>977</th>\n",
       "      <td>2023-02-22</td>\n",
       "      <td>Joe Biden</td>\n",
       "      <td>Democratic</td>\n",
       "      <td>February 21, 2023: Remarks on the One-Year Ann...</td>\n",
       "      <td>THE PRESIDENT: Hello, Poland! One of our great...</td>\n",
       "    </tr>\n",
       "    <tr>\n",
       "      <th>979</th>\n",
       "      <td>2023-02-08</td>\n",
       "      <td>Joe Biden</td>\n",
       "      <td>Democratic</td>\n",
       "      <td>February 7, 2023: State of the Union Address</td>\n",
       "      <td>Mr. Speaker. Madam Vice President. Our First L...</td>\n",
       "    </tr>\n",
       "    <tr>\n",
       "      <th>994</th>\n",
       "      <td>2022-09-21</td>\n",
       "      <td>Joe Biden</td>\n",
       "      <td>Democratic</td>\n",
       "      <td>September 21, 2022: Speech before the 77th Ses...</td>\n",
       "      <td>Thank you. Mr. President, Mr. Secretary-Genera...</td>\n",
       "    </tr>\n",
       "    <tr>\n",
       "      <th>...</th>\n",
       "      <td>...</td>\n",
       "      <td>...</td>\n",
       "      <td>...</td>\n",
       "      <td>...</td>\n",
       "      <td>...</td>\n",
       "    </tr>\n",
       "    <tr>\n",
       "      <th>4</th>\n",
       "      <td>1790-12-29</td>\n",
       "      <td>George Washington</td>\n",
       "      <td>Unaffiliated</td>\n",
       "      <td>Talk to the Chiefs and Counselors of the Senec...</td>\n",
       "      <td>I the President of the United States, by my ow...</td>\n",
       "    </tr>\n",
       "    <tr>\n",
       "      <th>3</th>\n",
       "      <td>1790-12-08</td>\n",
       "      <td>George Washington</td>\n",
       "      <td>Unaffiliated</td>\n",
       "      <td>Second Annual Message to Congress</td>\n",
       "      <td>Fellow citizens of the Senate and House of Rep...</td>\n",
       "    </tr>\n",
       "    <tr>\n",
       "      <th>2</th>\n",
       "      <td>1790-01-08</td>\n",
       "      <td>George Washington</td>\n",
       "      <td>Unaffiliated</td>\n",
       "      <td>First Annual Message to Congress</td>\n",
       "      <td>Fellow Citizens of the Senate and House of Rep...</td>\n",
       "    </tr>\n",
       "    <tr>\n",
       "      <th>1</th>\n",
       "      <td>1789-10-03</td>\n",
       "      <td>George Washington</td>\n",
       "      <td>Unaffiliated</td>\n",
       "      <td>Thanksgiving Proclamation</td>\n",
       "      <td>Whereas it is the duty of all Nations to ackno...</td>\n",
       "    </tr>\n",
       "    <tr>\n",
       "      <th>0</th>\n",
       "      <td>1789-04-30</td>\n",
       "      <td>George Washington</td>\n",
       "      <td>Unaffiliated</td>\n",
       "      <td>First Inaugural Address</td>\n",
       "      <td>Fellow Citizens of the Senate and the House of...</td>\n",
       "    </tr>\n",
       "  </tbody>\n",
       "</table>\n",
       "<p>1037 rows × 5 columns</p>\n",
       "</div>"
      ],
      "text/plain": [
       "           Date          President         Party  \\\n",
       "981  2024-01-05          Joe Biden    Democratic   \n",
       "992  2023-10-20          Joe Biden    Democratic   \n",
       "977  2023-02-22          Joe Biden    Democratic   \n",
       "979  2023-02-08          Joe Biden    Democratic   \n",
       "994  2022-09-21          Joe Biden    Democratic   \n",
       "..          ...                ...           ...   \n",
       "4    1790-12-29  George Washington  Unaffiliated   \n",
       "3    1790-12-08  George Washington  Unaffiliated   \n",
       "2    1790-01-08  George Washington  Unaffiliated   \n",
       "1    1789-10-03  George Washington  Unaffiliated   \n",
       "0    1789-04-30  George Washington  Unaffiliated   \n",
       "\n",
       "                                          Speech Title  \\\n",
       "981  January 5, 2024: Speech on the Third Anniversa...   \n",
       "992  October 20, 2023: Remarks on the US Response i...   \n",
       "977  February 21, 2023: Remarks on the One-Year Ann...   \n",
       "979       February 7, 2023: State of the Union Address   \n",
       "994  September 21, 2022: Speech before the 77th Ses...   \n",
       "..                                                 ...   \n",
       "4    Talk to the Chiefs and Counselors of the Senec...   \n",
       "3                    Second Annual Message to Congress   \n",
       "2                     First Annual Message to Congress   \n",
       "1                            Thanksgiving Proclamation   \n",
       "0                              First Inaugural Address   \n",
       "\n",
       "                                            Transcript  \n",
       "981  THE PRESIDENT: Thank you, thank you, thank you...  \n",
       "992  Good evening, my fellow Americans. We’re facin...  \n",
       "977  THE PRESIDENT: Hello, Poland! One of our great...  \n",
       "979  Mr. Speaker. Madam Vice President. Our First L...  \n",
       "994  Thank you. Mr. President, Mr. Secretary-Genera...  \n",
       "..                                                 ...  \n",
       "4    I the President of the United States, by my ow...  \n",
       "3    Fellow citizens of the Senate and House of Rep...  \n",
       "2    Fellow Citizens of the Senate and House of Rep...  \n",
       "1    Whereas it is the duty of all Nations to ackno...  \n",
       "0    Fellow Citizens of the Senate and the House of...  \n",
       "\n",
       "[1037 rows x 5 columns]"
      ]
     },
     "execution_count": 58,
     "metadata": {},
     "output_type": "execute_result"
    }
   ],
   "source": [
    "sorted_data"
   ]
  },
  {
   "cell_type": "markdown",
   "id": "905f97af-e9d5-4f5e-a84e-704484e6af61",
   "metadata": {},
   "source": [
    "## Grouping transcripts by presidents and creating the TXT files."
   ]
  },
  {
   "cell_type": "code",
   "execution_count": 59,
   "id": "002b15cc-b1de-4959-88dd-f532fb04d991",
   "metadata": {},
   "outputs": [],
   "source": [
    "import os\n",
    "\n",
    "grouped_data = df.groupby(\"President\")\n",
    "\n",
    "# Create the \"president\" folder if it doesn't exist\n",
    "folder_name = \"corpus\"\n",
    "if not os.path.exists(folder_name):\n",
    "    os.makedirs(folder_name)\n",
    "\n",
    "for president, group in grouped_data:\n",
    "    # Concatenate the transcript values for each president\n",
    "    concatenated_text = \" \".join(group[\"Transcript\"].values)\n",
    "    \n",
    "    # Write the concatenated text into a text file with the president's name\n",
    "    file_name = f\"{president}.txt\"\n",
    "    file_path = os.path.join(folder_name, file_name)\n",
    "    with open(file_path, \"w\") as file:\n",
    "        file.write(concatenated_text)"
   ]
  },
  {
   "cell_type": "code",
   "execution_count": null,
   "id": "406e1ca8-c0a3-460e-9b4e-cd7d6b1984a2",
   "metadata": {},
   "outputs": [],
   "source": []
  }
 ],
 "metadata": {
  "kernelspec": {
   "display_name": "Python 3 (ipykernel)",
   "language": "python",
   "name": "python3"
  },
  "language_info": {
   "codemirror_mode": {
    "name": "ipython",
    "version": 3
   },
   "file_extension": ".py",
   "mimetype": "text/x-python",
   "name": "python",
   "nbconvert_exporter": "python",
   "pygments_lexer": "ipython3",
   "version": "3.11.5"
  }
 },
 "nbformat": 4,
 "nbformat_minor": 5
}
